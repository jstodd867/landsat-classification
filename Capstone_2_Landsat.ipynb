{
 "cells": [
  {
   "cell_type": "code",
   "execution_count": 1,
   "id": "b2ae22a4",
   "metadata": {},
   "outputs": [],
   "source": [
    "import numpy as np\n",
    "from skimage import io\n",
    "import os\n",
    "import matplotlib.pyplot as plt\n",
    "import pandas as pd\n",
    "from sklearn.model_selection import GridSearchCV\n",
    "import src.plots\n",
    "import src.models"
   ]
  },
  {
   "cell_type": "code",
   "execution_count": 2,
   "id": "ca1dc9e2",
   "metadata": {},
   "outputs": [],
   "source": [
    "plt.rcParams.update({'font.size': 16})"
   ]
  },
  {
   "cell_type": "code",
   "execution_count": 3,
   "id": "982c652c",
   "metadata": {},
   "outputs": [
    {
     "name": "stdout",
     "output_type": "stream",
     "text": [
      "sat.trn sat.tst\r\n"
     ]
    }
   ],
   "source": [
    "!ls data"
   ]
  },
  {
   "cell_type": "code",
   "execution_count": 4,
   "id": "697588ac",
   "metadata": {},
   "outputs": [],
   "source": [
    "train, test = np.loadtxt('data/sat.trn'), np.loadtxt('data/sat.tst')"
   ]
  },
  {
   "cell_type": "code",
   "execution_count": 5,
   "id": "259bcf0d",
   "metadata": {},
   "outputs": [
    {
     "data": {
      "text/plain": [
       "array([[ 92., 115., 120., ..., 113.,  87.,   3.],\n",
       "       [ 84., 102., 106., ..., 104.,  79.,   3.],\n",
       "       [ 84., 102., 102., ..., 104.,  79.,   3.],\n",
       "       ...,\n",
       "       [ 68.,  75., 108., ..., 104.,  85.,   4.],\n",
       "       [ 71.,  87., 108., ..., 104.,  85.,   4.],\n",
       "       [ 71.,  91., 100., ..., 100.,  81.,   4.]])"
      ]
     },
     "execution_count": 5,
     "metadata": {},
     "output_type": "execute_result"
    }
   ],
   "source": [
    "train"
   ]
  },
  {
   "cell_type": "code",
   "execution_count": 6,
   "id": "caf6ad4f",
   "metadata": {},
   "outputs": [
    {
     "data": {
      "text/plain": [
       "array([[ 80., 102., 102., ..., 113.,  87.,   3.],\n",
       "       [ 76., 102., 102., ..., 104.,  83.,   3.],\n",
       "       [ 80.,  98., 106., ...,  96.,  75.,   4.],\n",
       "       ...,\n",
       "       [ 56.,  68.,  91., ...,  92.,  74.,   5.],\n",
       "       [ 56.,  68.,  87., ...,  92.,  70.,   5.],\n",
       "       [ 60.,  71.,  91., ..., 108.,  92.,   5.]])"
      ]
     },
     "execution_count": 6,
     "metadata": {},
     "output_type": "execute_result"
    }
   ],
   "source": [
    "test"
   ]
  },
  {
   "cell_type": "code",
   "execution_count": 7,
   "id": "2abcdab5",
   "metadata": {},
   "outputs": [
    {
     "name": "stdout",
     "output_type": "stream",
     "text": [
      "(4435, 37) (2000, 37)\n"
     ]
    }
   ],
   "source": [
    "print(train.shape, test.shape)"
   ]
  },
  {
   "cell_type": "code",
   "execution_count": 8,
   "id": "41ceb46d",
   "metadata": {},
   "outputs": [],
   "source": [
    "# Separate labels into different vectors\n",
    "y_train, y_test = train[:,-1].astype('int'), test[:,-1].astype('int')"
   ]
  },
  {
   "cell_type": "code",
   "execution_count": 9,
   "id": "0a8d8a05",
   "metadata": {},
   "outputs": [
    {
     "data": {
      "text/plain": [
       "(array([3, 3, 3, ..., 4, 4, 4]), array([3, 3, 4, ..., 5, 5, 5]))"
      ]
     },
     "execution_count": 9,
     "metadata": {},
     "output_type": "execute_result"
    }
   ],
   "source": [
    "y_train, y_test"
   ]
  },
  {
   "cell_type": "code",
   "execution_count": 10,
   "id": "242a72e2",
   "metadata": {},
   "outputs": [
    {
     "name": "stdout",
     "output_type": "stream",
     "text": [
      "4435 2000\n"
     ]
    }
   ],
   "source": [
    "print(len(y_train), len(y_test))"
   ]
  },
  {
   "cell_type": "code",
   "execution_count": 11,
   "id": "265363cd",
   "metadata": {},
   "outputs": [],
   "source": [
    "# Separate 3x3x4 pixel neighborhood samples into train and test feature samples\n",
    "X_train, X_test = train[:,:-1], test[:,:-1]"
   ]
  },
  {
   "cell_type": "code",
   "execution_count": 12,
   "id": "5dab80ea",
   "metadata": {},
   "outputs": [
    {
     "data": {
      "text/plain": [
       "array([[ 92., 115., 120., ..., 107., 113.,  87.],\n",
       "       [ 84., 102., 106., ...,  99., 104.,  79.],\n",
       "       [ 84., 102., 102., ...,  99., 104.,  79.],\n",
       "       ...,\n",
       "       [ 68.,  75., 108., ..., 100., 104.,  85.],\n",
       "       [ 71.,  87., 108., ...,  91., 104.,  85.],\n",
       "       [ 71.,  91., 100., ...,  91., 100.,  81.]])"
      ]
     },
     "execution_count": 12,
     "metadata": {},
     "output_type": "execute_result"
    }
   ],
   "source": [
    "X_train"
   ]
  },
  {
   "cell_type": "markdown",
   "id": "51d700c8",
   "metadata": {},
   "source": [
    "## Exploratory Data Analysis"
   ]
  },
  {
   "cell_type": "code",
   "execution_count": 13,
   "id": "97f6b136",
   "metadata": {},
   "outputs": [],
   "source": [
    "# Determine class count for each label in training set\n",
    "def class_counts(y):\n",
    "    labels, labels_inverse, label_counts = np.unique(y, return_inverse=True, return_counts=True)\n",
    "    return labels, labels_inverse, label_counts"
   ]
  },
  {
   "cell_type": "code",
   "execution_count": 14,
   "id": "27caae55",
   "metadata": {},
   "outputs": [],
   "source": [
    "labels, labels_inverse, label_counts = class_counts(y_train)"
   ]
  },
  {
   "cell_type": "code",
   "execution_count": 15,
   "id": "4d62daff",
   "metadata": {},
   "outputs": [
    {
     "name": "stderr",
     "output_type": "stream",
     "text": [
      "<ipython-input-15-8ded52a36041>:6: UserWarning: FixedFormatter should only be used together with FixedLocator\n",
      "  ax.set_xticklabels(['','1 - red soil', '2 - cotton crop', '3 - grey soil', '4 - damp grey soil', '5 - soil w/veg.', '6 - mixture', '7 - very damp grey soil'], rotation=45);\n"
     ]
    },
    {
     "data": {
      "image/png": "[encoded data removed]",
      "text/plain": [
       "<Figure size 504x360 with 1 Axes>"
      ]
     },
     "metadata": {
      "needs_background": "light"
     },
     "output_type": "display_data"
    }
   ],
   "source": [
    "fig, ax = plt.subplots(figsize=(7,5))\n",
    "ax.bar(labels, label_counts)\n",
    "ax.set_xlabel('Class')\n",
    "ax.set_ylabel('Number of Occurrences')\n",
    "ax.set_title('Occurrences of Each Class in Training Set')\n",
    "ax.set_xticklabels(['','1 - red soil', '2 - cotton crop', '3 - grey soil', '4 - damp grey soil', '5 - soil w/veg.', '6 - mixture', '7 - very damp grey soil'], rotation=45);\n",
    "\n",
    "plt.tight_layout()\n",
    "#plt.savefig('imgs/train_class_count.png')"
   ]
  },
  {
   "cell_type": "markdown",
   "id": "e540df76",
   "metadata": {},
   "source": [
    "## Baseline Model"
   ]
  },
  {
   "cell_type": "code",
   "execution_count": 16,
   "id": "248539d9",
   "metadata": {},
   "outputs": [],
   "source": [
    "class Baseline():\n",
    "    \n",
    "    def __init__(self):\n",
    "        self.classes_ = None\n",
    "        self.classes_inverse_ = None\n",
    "        self.means_ = None\n",
    "        self.mean_dict = None\n",
    "        self.label_dict = None\n",
    "\n",
    "    def euclidean_distance(a,b):\n",
    "        return np.sqrt(sum((a-b)**2))\n",
    "    \n",
    "    def predict(self, X):\n",
    "        predicts = []\n",
    "        self.label_dict = {num:label for num,label in zip(np.arange(len(self.classes_)), self.classes_)}\n",
    "        for sample in X:\n",
    "            mean_index = np.argmin([euclidean_distance(sample, mean_vector) for mean_vector in self.mean_dict.values()])\n",
    "            predicts.append(self.label_dict[mean_index])\n",
    "        return np.array(predicts)\n",
    "    \n",
    "    def fit(self, X_train, y_train):\n",
    "        self.classes_, self.classes_inverse_ = np.unique(y_train, return_inverse=True)\n",
    "        self.means_ = [np.mean(X_train[self.classes_inverse_==idx,:], axis=0) for idx,label in enumerate(self.classes_)]\n",
    "        self.mean_dict = {label: self.means_[i] for i,label in enumerate(self.classes_)}\n",
    "        "
   ]
  },
  {
   "cell_type": "code",
   "execution_count": 17,
   "id": "704efb3a",
   "metadata": {},
   "outputs": [],
   "source": [
    "base_model = src.models.Baseline()\n",
    "base_model.fit(X_train[:,16:20], y_train)"
   ]
  },
  {
   "cell_type": "code",
   "execution_count": 18,
   "id": "37b21861",
   "metadata": {},
   "outputs": [],
   "source": [
    "y_test_predict = base_model.predict(X_test[:,16:20])"
   ]
  },
  {
   "cell_type": "code",
   "execution_count": 21,
   "id": "aeccb536",
   "metadata": {},
   "outputs": [
    {
     "name": "stdout",
     "output_type": "stream",
     "text": [
      "Baseline Model Accuracy: 0.7685\n"
     ]
    }
   ],
   "source": [
    "print(f'Baseline Model Accuracy: {accuracy_score(y_test,y_test_predict)}') # Baseline model accuracy"
   ]
  },
  {
   "cell_type": "markdown",
   "id": "8f2027a7",
   "metadata": {},
   "source": [
    "## Neural Network"
   ]
  },
  {
   "cell_type": "code",
   "execution_count": null,
   "id": "da4af1c2",
   "metadata": {},
   "outputs": [],
   "source": [
    "from tensorflow import keras\n",
    "from tensorflow.keras.models import Sequential\n",
    "from tensorflow.keras.layers import Dense, Dropout, Activation\n",
    "from tensorflow.keras.optimizers import SGD\n",
    "from tensorflow.keras.metrics import Precision, Recall\n",
    "from tensorflow.keras.utils import to_categorical"
   ]
  },
  {
   "cell_type": "code",
   "execution_count": null,
   "id": "b67daa0a",
   "metadata": {},
   "outputs": [],
   "source": [
    "from sklearn.preprocessing import OneHotEncoder\n",
    "enc = OneHotEncoder()\n",
    "\n",
    "enc.fit(y_train.reshape(-1,1))\n",
    "\n",
    "y_trn_1hot = enc.transform(y_train.reshape(-1,1)).toarray()\n"
   ]
  },
  {
   "cell_type": "code",
   "execution_count": null,
   "id": "75fff3ba",
   "metadata": {},
   "outputs": [],
   "source": [
    "# Scale the training data\n",
    "from sklearn.preprocessing import MinMaxScaler\n",
    "\n",
    "scaler = MinMaxScaler()\n",
    "scaler.fit(X_train)\n",
    "X_trn_scaled = scaler.transform(X_train)\n"
   ]
  },
  {
   "cell_type": "code",
   "execution_count": null,
   "id": "7293d3c4",
   "metadata": {},
   "outputs": [],
   "source": [
    "opt = keras.optimizers.Adam(learning_rate=0.0005)\n",
    "hidden_units = 100\n",
    "n_classes = 6"
   ]
  },
  {
   "cell_type": "code",
   "execution_count": null,
   "id": "d1532863",
   "metadata": {},
   "outputs": [],
   "source": [
    "def create_model(X, n_classes, opt='Adam', hidden_units=100, drop_out=0, activ='softsign'):\n",
    "    np.random.seed(42)\n",
    "\n",
    "    n_samples, n_feats = X.shape\n",
    "\n",
    "    model = Sequential() # sequence of layers\n",
    "\n",
    "    hidden_layer = Dense(units=hidden_units,\n",
    "                    input_dim=n_feats,\n",
    "                    kernel_initializer='constant',\n",
    "                    activation=activ)\n",
    "\n",
    "    hidden_layer_2 = Dense(units=hidden_units,\n",
    "                    kernel_initializer='constant',\n",
    "                    activation=activ)\n",
    "\n",
    "    outputlayer = Dense(units=n_classes,\n",
    "                    input_dim=hidden_units,\n",
    "                    kernel_initializer='uniform',\n",
    "                    activation='softmax')\n",
    "\n",
    "    model.add(hidden_layer)\n",
    "    model.add(Dropout(drop_out))\n",
    "    model.add(hidden_layer_2)\n",
    "    model.add(Dropout(drop_out))\n",
    "    model.add(hidden_layer_2)\n",
    "    model.add(Dropout(drop_out))\n",
    "    model.add(outputlayer)\n",
    "\n",
    "    model.compile(loss='categorical_crossentropy', \n",
    "                  optimizer=opt, metrics=[\"accuracy\"])\n",
    "    return model"
   ]
  },
  {
   "cell_type": "code",
   "execution_count": null,
   "id": "702aee3c",
   "metadata": {},
   "outputs": [],
   "source": [
    "model = create_model(X_trn_scaled, n_classes, opt)"
   ]
  },
  {
   "cell_type": "code",
   "execution_count": null,
   "id": "73bcdee3",
   "metadata": {},
   "outputs": [],
   "source": [
    "history = model.fit(X_trn_scaled, y_trn_1hot, epochs=350, batch_size=50, verbose=1, validation_split=0)\n"
   ]
  },
  {
   "cell_type": "code",
   "execution_count": null,
   "id": "2e54478a",
   "metadata": {},
   "outputs": [],
   "source": [
    "history.history"
   ]
  },
  {
   "cell_type": "code",
   "execution_count": null,
   "id": "87ef9488",
   "metadata": {},
   "outputs": [],
   "source": [
    "fig, ax = plt.subplots()\n",
    "ax.plot(history.epoch, history.history['accuracy'], label = '3 hidden layers - train')\n",
    "#ax.plot(history.epoch, history.history['val_accuracy'], label = '3 hidden layers - val')\n",
    "ax.set_xlabel('Epoch')\n",
    "ax.set_ylabel('Accuracy')\n",
    "ax.set_title('Accuracy per Epoch')\n",
    "ax.legend()"
   ]
  },
  {
   "cell_type": "code",
   "execution_count": null,
   "id": "6170870e",
   "metadata": {},
   "outputs": [],
   "source": [
    "model.evaluate(scaler.transform(X_test), enc.transform(y_test.reshape(-1,1)).toarray())  # Calculate performance metrics on unseen test data"
   ]
  },
  {
   "cell_type": "markdown",
   "id": "2b5eb1e9",
   "metadata": {},
   "source": [
    "### Decision Tree Classifier"
   ]
  },
  {
   "cell_type": "code",
   "execution_count": 20,
   "id": "4cdb72ec",
   "metadata": {},
   "outputs": [
    {
     "name": "stdout",
     "output_type": "stream",
     "text": [
      "1.0\n",
      "0.8545\n"
     ]
    }
   ],
   "source": [
    "from sklearn.tree import DecisionTreeClassifier\n",
    "from sklearn.metrics import accuracy_score, f1_score\n",
    "\n",
    "clf_dt = DecisionTreeClassifier()\n",
    "clf_dt.fit(X_train, y_train)\n",
    "yhat_trn = clf_dt.predict(X_train)\n",
    "print(accuracy_score(y_train, yhat_trn))\n",
    "yhat = clf_dt.predict(X_test)\n",
    "print(accuracy_score(y_test, yhat))"
   ]
  },
  {
   "cell_type": "code",
   "execution_count": null,
   "id": "6fe463f8",
   "metadata": {},
   "outputs": [],
   "source": [
    "from sklearn.metrics import confusion_matrix, ConfusionMatrixDisplay\n",
    "# Confusion Matrix\n",
    "conf_mx = confusion_matrix(y_test, yhat, labels=clf_dt.classes_)\n",
    "np.round(conf_mx, 2)\n",
    "cm_display = ConfusionMatrixDisplay(conf_mx, display_labels=clf_dt.classes_).plot(cmap='plasma')"
   ]
  },
  {
   "cell_type": "code",
   "execution_count": null,
   "id": "76440191",
   "metadata": {},
   "outputs": [],
   "source": [
    "plt.matshow(conf_mx, cmap=plt.cm.gray)"
   ]
  },
  {
   "cell_type": "code",
   "execution_count": null,
   "id": "652b226f",
   "metadata": {},
   "outputs": [],
   "source": [
    "clf_dt.classes_"
   ]
  },
  {
   "cell_type": "code",
   "execution_count": null,
   "id": "87968e03",
   "metadata": {},
   "outputs": [],
   "source": [
    "np.fill_diagonal(conf_mx, 0)\n",
    "plt.matshow(conf_mx, cmap=plt.cm.gray)"
   ]
  },
  {
   "cell_type": "markdown",
   "id": "25747dc4",
   "metadata": {},
   "source": [
    "### Random Forest Classifier"
   ]
  },
  {
   "cell_type": "code",
   "execution_count": null,
   "id": "857fd6ed",
   "metadata": {},
   "outputs": [],
   "source": [
    "from sklearn.ensemble import RandomForestClassifier\n",
    "from sklearn.datasets import make_classification\n",
    "\n",
    "clf = RandomForestClassifier(n_estimators=100, max_depth=50, random_state=0, class_weight='balanced')\n",
    "clf.fit(X_train, y_train)\n",
    "y_trn_rf = clf.predict(X_train)\n",
    "print(f'Train Accuracy: {accuracy_score(y_train, y_trn_rf)}')\n",
    "y_rf = clf.predict(X_test)\n",
    "print(f'Test Accuracy: {accuracy_score(y_test, y_rf)}')"
   ]
  },
  {
   "cell_type": "markdown",
   "id": "21fe6633",
   "metadata": {},
   "source": [
    "## Grid Search"
   ]
  },
  {
   "cell_type": "markdown",
   "id": "027a66d7",
   "metadata": {},
   "source": [
    "### Neural Network Search"
   ]
  },
  {
   "cell_type": "code",
   "execution_count": null,
   "id": "3e29e805",
   "metadata": {},
   "outputs": [],
   "source": [
    "modelo = keras.wrappers.scikit_learn.KerasClassifier(build_fn=create_model, X=X_trn_scaled, n_classes=6, opt=opt)"
   ]
  },
  {
   "cell_type": "code",
   "execution_count": null,
   "id": "1a693db9",
   "metadata": {},
   "outputs": [],
   "source": [
    "activation = ['softmax', 'softplus', 'softsign', 'relu', 'tanh', 'sigmoid']"
   ]
  },
  {
   "cell_type": "code",
   "execution_count": null,
   "id": "823c47b4",
   "metadata": {},
   "outputs": [],
   "source": [
    "# Set grid search parameters\n",
    "param_grid = dict(epochs=[350, 400], batch_size=[40], drop_out = [0,0.05,0.1], activ=activation)\n",
    "grid = GridSearchCV(estimator=modelo, param_grid=param_grid, n_jobs=-1, cv=[(slice(None), slice(None))])\n",
    "grid_result = grid.fit(X_trn_scaled, y_trn_1hot)"
   ]
  },
  {
   "cell_type": "code",
   "execution_count": null,
   "id": "8bef77ad",
   "metadata": {},
   "outputs": [],
   "source": [
    "grid_result.best_params_"
   ]
  },
  {
   "cell_type": "code",
   "execution_count": null,
   "id": "32a0cbd1",
   "metadata": {},
   "outputs": [],
   "source": [
    "grid_result.best_score_"
   ]
  },
  {
   "cell_type": "code",
   "execution_count": null,
   "id": "800f49ea",
   "metadata": {},
   "outputs": [],
   "source": [
    "np.mean(grid_result.best_estimator_.model.history.history['accuracy']), max(grid_result.best_estimator_.model.history.history['accuracy'])"
   ]
  },
  {
   "cell_type": "code",
   "execution_count": null,
   "id": "a34de8db",
   "metadata": {},
   "outputs": [],
   "source": [
    "# summarize results\n",
    "print(\"Best: %f using %s\" % (grid_result.best_score_, grid_result.best_params_))\n",
    "#means = grid_result.cv_results_['mean_test_score']\n",
    "#stds = grid_result.cv_results_['std_test_score']\n",
    "#params = grid_result.cv_results_['params']\n",
    "#for mean, stdev, param in zip(means, stds, params):\n",
    "    #print(\"%f (%f) with: %r\" % (mean, stdev, param))"
   ]
  },
  {
   "cell_type": "code",
   "execution_count": null,
   "id": "20a99e4a",
   "metadata": {},
   "outputs": [],
   "source": [
    "grid_result.best_estimator_.model.evaluate(scaler.transform(X_test), enc.transform(y_test.reshape(-1,1)).toarray())"
   ]
  },
  {
   "cell_type": "code",
   "execution_count": null,
   "id": "1af3bd91",
   "metadata": {},
   "outputs": [],
   "source": [
    "grid_result.cv_results_"
   ]
  },
  {
   "cell_type": "code",
   "execution_count": null,
   "id": "5a0a588e",
   "metadata": {},
   "outputs": [],
   "source": [
    "grid_result.best_estimator_.classes_= np.array([1,2,3,4,5,7])"
   ]
  },
  {
   "cell_type": "code",
   "execution_count": null,
   "id": "9768d480",
   "metadata": {},
   "outputs": [],
   "source": [
    "yhat_nn= grid_result.best_estimator_.predict(scaler.transform(X_test))"
   ]
  },
  {
   "cell_type": "code",
   "execution_count": null,
   "id": "f1e83d27",
   "metadata": {},
   "outputs": [],
   "source": [
    "# Confusion Matrix for Neural Network\n",
    "plot_cm(y_test, yhat_nn, grid_result.best_estimator_)"
   ]
  },
  {
   "cell_type": "code",
   "execution_count": null,
   "id": "2ecf82d0",
   "metadata": {},
   "outputs": [],
   "source": [
    "def plot_cm(y_test, yhat, classes, ax=None):\n",
    "    # Confusion Matrix\n",
    "    conf_mx = confusion_matrix(y_test, yhat, labels=classes)\n",
    "    cm_display = ConfusionMatrixDisplay(conf_mx, display_labels=classes).plot(cmap='plasma', ax=ax)"
   ]
  },
  {
   "cell_type": "markdown",
   "id": "b333032c",
   "metadata": {},
   "source": [
    "### Random Forest Search"
   ]
  },
  {
   "cell_type": "code",
   "execution_count": null,
   "id": "032dbd7f",
   "metadata": {},
   "outputs": [],
   "source": [
    "rf_param_grid = dict(n_estimators=[10, 50, 100, 150, 200], min_samples_split=np.arange(2,10,2),\n",
    "    min_samples_leaf=np.arange(1,10,2), max_depth = np.arange(10,100,10),\n",
    "    class_weight=['balanced', 'balanced_subsample'])\n",
    "grid = GridSearchCV(estimator=clf, param_grid=rf_param_grid, n_jobs=-1, cv=5,scoring='f1_weighted')\n",
    "rf_grid_result = grid.fit(X_train, y_train)"
   ]
  },
  {
   "cell_type": "code",
   "execution_count": null,
   "id": "cbe40b96",
   "metadata": {},
   "outputs": [],
   "source": [
    "print(f'Best Estimator Parameters: {rf_grid_result.best_params_}\\n')\n",
    "print(f'Average Validation Accuracy: {rf_grid_result.best_score_}')"
   ]
  },
  {
   "cell_type": "code",
   "execution_count": null,
   "id": "0f74c56a",
   "metadata": {},
   "outputs": [],
   "source": [
    "y_rf = rf_grid_result.best_estimator_.predict(X_test)\n",
    "score = f1_score(y_test, y_rf, average='weighted')\n",
    "print(f'Test F1 Score: {score}\\n')\n",
    "print(f'Test Accuracy Score: {accuracy_score(y_test, y_rf)}')"
   ]
  },
  {
   "cell_type": "code",
   "execution_count": null,
   "id": "ef0007d6",
   "metadata": {},
   "outputs": [],
   "source": [
    "plot_cm(y_test, y_rf, rf_grid_result.best_estimator_.classes_)"
   ]
  },
  {
   "cell_type": "code",
   "execution_count": null,
   "id": "b87256b7",
   "metadata": {},
   "outputs": [],
   "source": [
    "# Compare confusion matrices\n",
    "fig, axs = plt.subplots(1,3,figsize=(20,5))\n",
    "plot_cm(y_test, y_test_predict, labels, axs[0])\n",
    "plot_cm(y_test, y_rf, rf_grid_result.best_estimator_.classes_, axs[1])\n",
    "plot_cm(y_test, yhat_nn, grid_result.best_estimator_.classes_, axs[2])\n",
    "axs[0].set_title(f'Baseline\\n(Accuracy = {np.round(accuracy_score(y_test, y_test_predict),2)})')\n",
    "axs[1].set_title(f'Random Forest\\n(Accuracy = {np.round(accuracy_score(y_test, y_rf),2)})')\n",
    "axs[2].set_title(f'Neural Network\\n(Accuracy = {np.round(accuracy_score(y_test, yhat_nn),2)})')\n",
    "#plt.savefig('imgs/confusion_matrices.png')"
   ]
  },
  {
   "cell_type": "code",
   "execution_count": null,
   "id": "0100c16c",
   "metadata": {},
   "outputs": [],
   "source": [
    "print(f1_score(y_test, y_rf, average='weighted'), f1_score(y_test, yhat_nn, average='weighted'))"
   ]
  }
 ],
 "metadata": {
  "kernelspec": {
   "display_name": "Python 3",
   "language": "python",
   "name": "python3"
  },
  "language_info": {
   "codemirror_mode": {
    "name": "ipython",
    "version": 3
   },
   "file_extension": ".py",
   "mimetype": "text/x-python",
   "name": "python",
   "nbconvert_exporter": "python",
   "pygments_lexer": "ipython3",
   "version": "3.8.10"
  }
 },
 "nbformat": 4,
 "nbformat_minor": 5
}
